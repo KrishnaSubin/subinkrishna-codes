{
 "cells": [
  {
   "cell_type": "code",
   "execution_count": 1,
   "id": "c6684ea7",
   "metadata": {},
   "outputs": [],
   "source": [
    "from sklearn.linear_model import PassiveAggressiveClassifier\n",
    "from sklearn.feature_extraction.text import TfidfVectorizer\n",
    "import pandas as pd\n",
    "from sklearn.naive_bayes import GaussianNB\n",
    "from sklearn.tree import DecisionTreeClassifier\n",
    "from sklearn.model_selection import train_test_split\n",
    " \n",
    "from sklearn.svm import SVC\n",
    "from sklearn.linear_model import LogisticRegression\n",
    "from sklearn.metrics import accuracy_score\n",
    "from sklearn.metrics import confusion_matrix\n",
    "import matplotlib.pyplot as plt\n",
    "from mlxtend.plotting import plot_confusion_matrix\n",
    "from collections import Counter\n",
    "from nltk.tokenize import word_tokenize\n",
    "import warnings\n",
    "from sklearn.metrics import precision_recall_fscore_support\n",
    "warnings.filterwarnings('ignore')"
   ]
  },
  {
   "cell_type": "code",
   "execution_count": 2,
   "id": "44f09e5b",
   "metadata": {},
   "outputs": [],
   "source": [
    "news=pd.read_csv(r\"C:\\Users\\HP\\Desktop\\Datasets\\fake_or_real_news.csv\")\n"
   ]
  },
  {
   "cell_type": "code",
   "execution_count": 3,
   "id": "55004cf9",
   "metadata": {},
   "outputs": [
    {
     "name": "stdout",
     "output_type": "stream",
     "text": [
      "      Unnamed: 0                                              title  \\\n",
      "0           8476                       You Can Smell Hillary’s Fear   \n",
      "1          10294  Watch The Exact Moment Paul Ryan Committed Pol...   \n",
      "2           3608        Kerry to go to Paris in gesture of sympathy   \n",
      "3          10142  Bernie supporters on Twitter erupt in anger ag...   \n",
      "4            875   The Battle of New York: Why This Primary Matters   \n",
      "...          ...                                                ...   \n",
      "6330        4490  State Department says it can't find emails fro...   \n",
      "6331        8062  The ‘P’ in PBS Should Stand for ‘Plutocratic’ ...   \n",
      "6332        8622  Anti-Trump Protesters Are Tools of the Oligarc...   \n",
      "6333        4021  In Ethiopia, Obama seeks progress on peace, se...   \n",
      "6334        4330  Jeb Bush Is Suddenly Attacking Trump. Here's W...   \n",
      "\n",
      "                                                   text label  \n",
      "0     Daniel Greenfield, a Shillman Journalism Fello...  FAKE  \n",
      "1     Google Pinterest Digg Linkedin Reddit Stumbleu...  FAKE  \n",
      "2     U.S. Secretary of State John F. Kerry said Mon...  REAL  \n",
      "3     — Kaydee King (@KaydeeKing) November 9, 2016 T...  FAKE  \n",
      "4     It's primary day in New York and front-runners...  REAL  \n",
      "...                                                 ...   ...  \n",
      "6330  The State Department told the Republican Natio...  REAL  \n",
      "6331  The ‘P’ in PBS Should Stand for ‘Plutocratic’ ...  FAKE  \n",
      "6332   Anti-Trump Protesters Are Tools of the Oligar...  FAKE  \n",
      "6333  ADDIS ABABA, Ethiopia —President Obama convene...  REAL  \n",
      "6334  Jeb Bush Is Suddenly Attacking Trump. Here's W...  REAL  \n",
      "\n",
      "[6335 rows x 4 columns]\n"
     ]
    }
   ],
   "source": [
    "print(news)"
   ]
  },
  {
   "cell_type": "code",
   "execution_count": 36,
   "id": "e7c22d3a",
   "metadata": {},
   "outputs": [
    {
     "data": {
      "text/plain": [
       "Unnamed: 0    0\n",
       "title         0\n",
       "text          0\n",
       "label         0\n",
       "dtype: int64"
      ]
     },
     "execution_count": 36,
     "metadata": {},
     "output_type": "execute_result"
    }
   ],
   "source": [
    "#checking for null values\n",
    "news.isnull().sum()"
   ]
  },
  {
   "cell_type": "code",
   "execution_count": 4,
   "id": "2af38ce5",
   "metadata": {},
   "outputs": [
    {
     "data": {
      "text/plain": [
       "Counter({'FAKE': 3164, 'REAL': 3171})"
      ]
     },
     "execution_count": 4,
     "metadata": {},
     "output_type": "execute_result"
    }
   ],
   "source": [
    "# Counting the number of REAL and FAKE values\n",
    "Counter(news['label'])"
   ]
  },
  {
   "cell_type": "markdown",
   "id": "33204960",
   "metadata": {},
   "source": [
    "# Splitting data\n"
   ]
  },
  {
   "cell_type": "markdown",
   "id": "7a3f69bc",
   "metadata": {},
   "source": [
    "### Splitting the data into training and testing data."
   ]
  },
  {
   "cell_type": "code",
   "execution_count": 5,
   "id": "1bf0bd7b",
   "metadata": {},
   "outputs": [],
   "source": [
    "x_train,x_test,y_train,y_test=train_test_split(news['text'],news['label'],test_size=0.2)\n"
   ]
  },
  {
   "cell_type": "markdown",
   "id": "596ff06f",
   "metadata": {},
   "source": [
    "### TfidfVectorizer"
   ]
  },
  {
   "cell_type": "code",
   "execution_count": 6,
   "id": "8c987925",
   "metadata": {},
   "outputs": [
    {
     "name": "stdout",
     "output_type": "stream",
     "text": [
      "(1267, 60673)\n",
      "(5068, 60673)\n"
     ]
    }
   ],
   "source": [
    "tfidf=TfidfVectorizer(stop_words='english',max_df=0.8)\n",
    "x_train=tfidf.fit_transform(x_train)\n",
    "x_test=tfidf.transform(x_test)\n",
    "print(x_test.shape)\n",
    "print(x_train.shape)"
   ]
  },
  {
   "cell_type": "code",
   "execution_count": 33,
   "id": "5765d69e",
   "metadata": {},
   "outputs": [
    {
     "data": {
      "text/plain": [
       "Text(0.5, 1.0, 'Fake news')"
      ]
     },
     "execution_count": 33,
     "metadata": {},
     "output_type": "execute_result"
    },
    {
     "data": {
      "image/png": "[encoded data removed]",
      "text/plain": [
       "<Figure size 1080x576 with 2 Axes>"
      ]
     },
     "metadata": {
      "needs_background": "light"
     },
     "output_type": "display_data"
    }
   ],
   "source": [
    "fig, (ax1,ax2)=plt.subplots(1,2,figsize=(15,8))\n",
    "fig.suptitle('Characters in News Title',fontsize=20)\n",
    "news_len=news[news['label']=='REAL']['title'].str.len()\n",
    "ax1.hist(news_len,color='skyblue',linewidth=2,edgecolor='black')\n",
    "ax1.set_title('REAL news',fontsize=15)\n",
    "news_len=news[news['label']=='FAKE']['title'].str.len()\n",
    "ax2.hist(news_len,linewidth=2,edgecolor='black')\n",
    "ax2.set_title('Fake news',fontsize=15)"
   ]
  },
  {
   "cell_type": "code",
   "execution_count": 34,
   "id": "40431393",
   "metadata": {},
   "outputs": [
    {
     "data": {
      "text/plain": [
       "Text(0.5, 1.0, 'Fake news')"
      ]
     },
     "execution_count": 34,
     "metadata": {},
     "output_type": "execute_result"
    },
    {
     "data": {
      "image/png": "[encoded data removed]",
      "text/plain": [
       "<Figure size 1080x576 with 2 Axes>"
      ]
     },
     "metadata": {
      "needs_background": "light"
     },
     "output_type": "display_data"
    }
   ],
   "source": [
    "fig, (ax1,ax2)=plt.subplots(1,2,figsize=(15,8))\n",
    "fig.suptitle('Characters in News Text',fontsize=20)\n",
    "news_len=news[news['label']=='REAL']['text'].str.len()\n",
    "ax1.hist(news_len,color='skyblue',linewidth=2,edgecolor='black')\n",
    "ax1.set_title('REAL news',fontsize=15)\n",
    "news_len=news[news['label']=='FAKE']['text'].str.len()\n",
    "ax2.hist(news_len,linewidth=2,edgecolor='black')\n",
    "ax2.set_title('Fake news',fontsize=15)"
   ]
  },
  {
   "cell_type": "markdown",
   "id": "69c3c983",
   "metadata": {},
   "source": [
    "# Fitting the model  and Finding the Accuracy"
   ]
  },
  {
   "cell_type": "markdown",
   "id": "f12e3692",
   "metadata": {},
   "source": [
    "### PASSIVE AGGRESSIVE CLASSIFIER"
   ]
  },
  {
   "cell_type": "code",
   "execution_count": 39,
   "id": "273b99dd",
   "metadata": {},
   "outputs": [
    {
     "name": "stdout",
     "output_type": "stream",
     "text": [
      "0.936069455406472\n"
     ]
    },
    {
     "data": {
      "text/plain": [
       "(0.936066913905172, 0.9360473520249222, 0.9360565495197715, None)"
      ]
     },
     "execution_count": 39,
     "metadata": {},
     "output_type": "execute_result"
    }
   ],
   "source": [
    "model1=PassiveAggressiveClassifier(max_iter=300)\n",
    "model1.fit(x_train,y_train)\n",
    "y_pred1=model1.predict(x_test)\n",
    "acc1=accuracy_score(y_test,y_pred1)\n",
    "print(acc1)\n",
    "precision_recall_fscore_support(y_test, y_pred1, average='macro')"
   ]
  },
  {
   "cell_type": "markdown",
   "id": "85d92191",
   "metadata": {},
   "source": [
    "### NAIVE BAYES CLASSIFIER"
   ]
  },
  {
   "cell_type": "code",
   "execution_count": 41,
   "id": "1eeabfb5",
   "metadata": {},
   "outputs": [
    {
     "name": "stdout",
     "output_type": "stream",
     "text": [
      "0.8050513022888713\n"
     ]
    },
    {
     "data": {
      "text/plain": [
       "(0.8112028409494165, 0.805980062305296, 0.8043840123814472, None)"
      ]
     },
     "execution_count": 41,
     "metadata": {},
     "output_type": "execute_result"
    }
   ],
   "source": [
    "model2=GaussianNB()\n",
    "model2.fit(x_train.toarray(),y_train)\n",
    "y_pred2=model2.predict(x_test.toarray())\n",
    "acc2=accuracy_score(y_test,y_pred2)\n",
    "print(acc2)\n",
    "precision_recall_fscore_support(y_test, y_pred2, average='macro')\n"
   ]
  },
  {
   "cell_type": "markdown",
   "id": "21334392",
   "metadata": {},
   "source": [
    "### DECISION TREE CLASSIFIER"
   ]
  },
  {
   "cell_type": "code",
   "execution_count": 42,
   "id": "7cd7cb94",
   "metadata": {},
   "outputs": [
    {
     "name": "stdout",
     "output_type": "stream",
     "text": [
      "0.8129439621152328\n"
     ]
    },
    {
     "data": {
      "text/plain": [
       "(0.8129093029514668, 0.8129420560747663, 0.8129211204584408, None)"
      ]
     },
     "execution_count": 42,
     "metadata": {},
     "output_type": "execute_result"
    }
   ],
   "source": [
    "model3=DecisionTreeClassifier()\n",
    "model3.fit(x_train,y_train)\n",
    "y_pred3=model3.predict(x_test)\n",
    "acc3=accuracy_score(y_test,y_pred3)\n",
    "print(acc3)\n",
    "precision_recall_fscore_support(y_test, y_pred3, average='macro')"
   ]
  },
  {
   "cell_type": "markdown",
   "id": "63a2bbb8",
   "metadata": {},
   "source": [
    "### RANDOM FOREST CLASSIFIER"
   ]
  },
  {
   "cell_type": "code",
   "execution_count": 43,
   "id": "3e128744",
   "metadata": {},
   "outputs": [
    {
     "name": "stdout",
     "output_type": "stream",
     "text": [
      "0.89344909234412\n"
     ]
    },
    {
     "data": {
      "text/plain": [
       "(0.8935166034557516, 0.8935676012461059, 0.8934480303350271, None)"
      ]
     },
     "execution_count": 43,
     "metadata": {},
     "output_type": "execute_result"
    }
   ],
   "source": [
    "model4=RandomForestClassifier()\n",
    "model4.fit(x_train,y_train)\n",
    "y_pred4=model4.predict(x_test)\n",
    "acc4=accuracy_score(y_test,y_pred4)\n",
    "print(acc4)\n",
    "precision_recall_fscore_support(y_test, y_pred4, average='macro')"
   ]
  },
  {
   "cell_type": "markdown",
   "id": "18f4b80d",
   "metadata": {},
   "source": [
    "### SUPPORT VECTOR MACHINE"
   ]
  },
  {
   "cell_type": "code",
   "execution_count": 44,
   "id": "96cd8541",
   "metadata": {},
   "outputs": [
    {
     "name": "stdout",
     "output_type": "stream",
     "text": [
      "0.930544593528019\n"
     ]
    },
    {
     "data": {
      "text/plain": [
       "(0.931115327956855, 0.9303202492211837, 0.9304853109880793, None)"
      ]
     },
     "execution_count": 44,
     "metadata": {},
     "output_type": "execute_result"
    }
   ],
   "source": [
    "model5=SVC()\n",
    "model5.fit(x_train,y_train)\n",
    "y_pred5=model5.predict(x_test)\n",
    "acc5=accuracy_score(y_test,y_pred5)\n",
    "print(acc5)\n",
    "precision_recall_fscore_support(y_test, y_pred5, average='macro')"
   ]
  },
  {
   "cell_type": "markdown",
   "id": "ccf7f08d",
   "metadata": {},
   "source": [
    "### LOGISTIC REGRESSION"
   ]
  },
  {
   "cell_type": "code",
   "execution_count": 45,
   "id": "df019bd2",
   "metadata": {},
   "outputs": [
    {
     "name": "stdout",
     "output_type": "stream",
     "text": [
      "0.9139700078926598\n"
     ]
    },
    {
     "data": {
      "text/plain": [
       "(0.9143713561217155, 0.9137744548286604, 0.9139080113681346, None)"
      ]
     },
     "execution_count": 45,
     "metadata": {},
     "output_type": "execute_result"
    }
   ],
   "source": [
    "model6=LogisticRegression()\n",
    "model6.fit(x_train,y_train)\n",
    "y_pred6=model6.predict(x_test)\n",
    "acc6=accuracy_score(y_test,y_pred6)\n",
    "print(acc6)\n",
    "precision_recall_fscore_support(y_test, y_pred6, average='macro')"
   ]
  },
  {
   "cell_type": "markdown",
   "id": "b9eadb34",
   "metadata": {},
   "source": [
    "# COMPARING ACCURACY OF ML MODELS"
   ]
  },
  {
   "cell_type": "code",
   "execution_count": 35,
   "id": "a542e4dc",
   "metadata": {},
   "outputs": [
    {
     "data": {
      "text/plain": [
       "<BarContainer object of 6 artists>"
      ]
     },
     "execution_count": 35,
     "metadata": {},
     "output_type": "execute_result"
    },
    {
     "data": {
      "image/png": "[encoded data removed]",
      "text/plain": [
       "<Figure size 1080x576 with 1 Axes>"
      ]
     },
     "metadata": {
      "needs_background": "light"
     },
     "output_type": "display_data"
    }
   ],
   "source": [
    "plt.figure(figsize=(15,8))\n",
    "plt.title('Comparing Accuracy of ML Models',fontsize=20)\n",
    "colors=['blue','green','red','yellow','violet','indigo']\n",
    "labels={'PassiveAggressiveClassifier':acc1,'GaussianNB':acc2,'DecisionTreeClassifier':acc3,'RandomForestClassifier':acc4,\n",
    "        'SVC':acc5,'LogisticRegression':acc6}\n",
    "plt.xticks(fontsize=10,color='black')\n",
    "plt.yticks(fontsize=20,color='black')\n",
    "plt.ylabel('Accuracy',fontsize=20)\n",
    "plt.xlabel('Models',fontsize=20)\n",
    "plt.bar(labels.keys(),labels.values(),edgecolor='black',color=colors, linewidth=2,alpha=0.5)"
   ]
  },
  {
   "cell_type": "markdown",
   "id": "200c0adf",
   "metadata": {},
   "source": [
    "### Calculating confusion matrix to gain insight into the number of false and true negatives and positives."
   ]
  },
  {
   "cell_type": "code",
   "execution_count": 20,
   "id": "423a9b36",
   "metadata": {},
   "outputs": [],
   "source": [
    "cm1=confusion_matrix(y_test,y_pred1)\n",
    "cm2=confusion_matrix(y_test,y_pred2)\n",
    "cm3=confusion_matrix(y_test,y_pred3)\n",
    "cm4=confusion_matrix(y_test,y_pred4)\n",
    "cm5=confusion_matrix(y_test,y_pred5)\n",
    "cm6=confusion_matrix(y_test,y_pred6)"
   ]
  },
  {
   "cell_type": "code",
   "execution_count": 21,
   "id": "0e12aa96",
   "metadata": {},
   "outputs": [
    {
     "name": "stdout",
     "output_type": "stream",
     "text": [
      "Confusion Matrix for PassiveAggressiveClassifier\n"
     ]
    },
    {
     "data": {
      "text/plain": [
       "array([[597,  45],\n",
       "       [ 41, 584]], dtype=int64)"
      ]
     },
     "execution_count": 21,
     "metadata": {},
     "output_type": "execute_result"
    }
   ],
   "source": [
    "print('Confusion Matrix for PassiveAggressiveClassifier')\n",
    "cm1"
   ]
  },
  {
   "cell_type": "code",
   "execution_count": 22,
   "id": "3f370ec7",
   "metadata": {},
   "outputs": [
    {
     "name": "stdout",
     "output_type": "stream",
     "text": [
      "Confusion Matrix for PassiveAggressiveClassifier\n"
     ]
    },
    {
     "data": {
      "text/plain": [
       "(<Figure size 432x288 with 2 Axes>,\n",
       " <AxesSubplot:xlabel='predicted label', ylabel='true label'>)"
      ]
     },
     "execution_count": 22,
     "metadata": {},
     "output_type": "execute_result"
    },
    {
     "data": {
      "image/png": "[encoded data removed]",
      "text/plain": [
       "<Figure size 432x288 with 2 Axes>"
      ]
     },
     "metadata": {
      "needs_background": "light"
     },
     "output_type": "display_data"
    }
   ],
   "source": [
    "print('Confusion Matrix for PassiveAggressiveClassifier')\n",
    "plot_confusion_matrix(conf_mat=cm1,show_absolute=True,\n",
    "                                show_normed=True,\n",
    "                                colorbar=True,class_names=['FAKE','REAL'])"
   ]
  },
  {
   "cell_type": "code",
   "execution_count": 23,
   "id": "31901d87",
   "metadata": {},
   "outputs": [
    {
     "name": "stdout",
     "output_type": "stream",
     "text": [
      "Confusion Matrix for GaussianNB\n"
     ]
    },
    {
     "data": {
      "text/plain": [
       "array([[473, 169],\n",
       "       [ 78, 547]], dtype=int64)"
      ]
     },
     "execution_count": 23,
     "metadata": {},
     "output_type": "execute_result"
    }
   ],
   "source": [
    "print('Confusion Matrix for GaussianNB')\n",
    "cm2"
   ]
  },
  {
   "cell_type": "code",
   "execution_count": 24,
   "id": "60cb2a96",
   "metadata": {},
   "outputs": [
    {
     "name": "stdout",
     "output_type": "stream",
     "text": [
      "Confusion Matrix for GaussianNB\n"
     ]
    },
    {
     "data": {
      "text/plain": [
       "(<Figure size 432x288 with 2 Axes>,\n",
       " <AxesSubplot:xlabel='predicted label', ylabel='true label'>)"
      ]
     },
     "execution_count": 24,
     "metadata": {},
     "output_type": "execute_result"
    },
    {
     "data": {
      "image/png": "[encoded data removed]",
      "text/plain": [
       "<Figure size 432x288 with 2 Axes>"
      ]
     },
     "metadata": {
      "needs_background": "light"
     },
     "output_type": "display_data"
    }
   ],
   "source": [
    "print('Confusion Matrix for GaussianNB')\n",
    "plot_confusion_matrix(conf_mat=cm2,show_absolute=True,\n",
    "                                show_normed=True,\n",
    "                                colorbar=True,class_names=['FAKE','REAL'])"
   ]
  },
  {
   "cell_type": "code",
   "execution_count": 25,
   "id": "295648d0",
   "metadata": {},
   "outputs": [
    {
     "name": "stdout",
     "output_type": "stream",
     "text": [
      "Confusion Matrix for DecisionTreeClassifier\n"
     ]
    },
    {
     "data": {
      "text/plain": [
       "array([[529, 113],\n",
       "       [119, 506]], dtype=int64)"
      ]
     },
     "execution_count": 25,
     "metadata": {},
     "output_type": "execute_result"
    }
   ],
   "source": [
    "print('Confusion Matrix for DecisionTreeClassifier')\n",
    "cm3"
   ]
  },
  {
   "cell_type": "code",
   "execution_count": 26,
   "id": "64694434",
   "metadata": {},
   "outputs": [
    {
     "name": "stdout",
     "output_type": "stream",
     "text": [
      "Confusion Matrix for DecisionTreeClassifier\n"
     ]
    },
    {
     "data": {
      "text/plain": [
       "(<Figure size 432x288 with 2 Axes>,\n",
       " <AxesSubplot:xlabel='predicted label', ylabel='true label'>)"
      ]
     },
     "execution_count": 26,
     "metadata": {},
     "output_type": "execute_result"
    },
    {
     "data": {
      "image/png": "[encoded data removed]",
      "text/plain": [
       "<Figure size 432x288 with 2 Axes>"
      ]
     },
     "metadata": {
      "needs_background": "light"
     },
     "output_type": "display_data"
    }
   ],
   "source": [
    "print('Confusion Matrix for DecisionTreeClassifier')\n",
    "plot_confusion_matrix(conf_mat=cm3,show_absolute=True,\n",
    "                                show_normed=True,\n",
    "                                colorbar=True,class_names=['FAKE','REAL'])"
   ]
  },
  {
   "cell_type": "code",
   "execution_count": 27,
   "id": "837d92a7",
   "metadata": {},
   "outputs": [
    {
     "name": "stdout",
     "output_type": "stream",
     "text": [
      "Confusion Matrix for RandomForestClassifier\n"
     ]
    },
    {
     "data": {
      "text/plain": [
       "array([[572,  70],\n",
       "       [ 61, 564]], dtype=int64)"
      ]
     },
     "execution_count": 27,
     "metadata": {},
     "output_type": "execute_result"
    }
   ],
   "source": [
    "print('Confusion Matrix for RandomForestClassifier')\n",
    "cm4"
   ]
  },
  {
   "cell_type": "code",
   "execution_count": 28,
   "id": "42e7be7c",
   "metadata": {},
   "outputs": [
    {
     "name": "stdout",
     "output_type": "stream",
     "text": [
      "Confusion Matrix for RandomForestClassifier\n"
     ]
    },
    {
     "data": {
      "text/plain": [
       "(<Figure size 432x288 with 2 Axes>,\n",
       " <AxesSubplot:xlabel='predicted label', ylabel='true label'>)"
      ]
     },
     "execution_count": 28,
     "metadata": {},
     "output_type": "execute_result"
    },
    {
     "data": {
      "image/png": "[encoded data removed]",
      "text/plain": [
       "<Figure size 432x288 with 2 Axes>"
      ]
     },
     "metadata": {
      "needs_background": "light"
     },
     "output_type": "display_data"
    }
   ],
   "source": [
    "print('Confusion Matrix for RandomForestClassifier')\n",
    "plot_confusion_matrix(conf_mat=cm4,show_absolute=True,\n",
    "                                show_normed=True,\n",
    "                                colorbar=True,class_names=['FAKE','REAL'])"
   ]
  },
  {
   "cell_type": "code",
   "execution_count": 29,
   "id": "e4917380",
   "metadata": {},
   "outputs": [
    {
     "name": "stdout",
     "output_type": "stream",
     "text": [
      "Confusion Matrix for SVC\n"
     ]
    },
    {
     "data": {
      "text/plain": [
       "array([[608,  34],\n",
       "       [ 54, 571]], dtype=int64)"
      ]
     },
     "execution_count": 29,
     "metadata": {},
     "output_type": "execute_result"
    }
   ],
   "source": [
    "print('Confusion Matrix for SVC')\n",
    "cm5"
   ]
  },
  {
   "cell_type": "code",
   "execution_count": 30,
   "id": "83b30282",
   "metadata": {},
   "outputs": [
    {
     "name": "stdout",
     "output_type": "stream",
     "text": [
      "Confusion Matrix for SVC\n"
     ]
    },
    {
     "data": {
      "text/plain": [
       "(<Figure size 432x288 with 2 Axes>,\n",
       " <AxesSubplot:xlabel='predicted label', ylabel='true label'>)"
      ]
     },
     "execution_count": 30,
     "metadata": {},
     "output_type": "execute_result"
    },
    {
     "data": {
      "image/png": "[encoded data removed]",
      "text/plain": [
       "<Figure size 432x288 with 2 Axes>"
      ]
     },
     "metadata": {
      "needs_background": "light"
     },
     "output_type": "display_data"
    }
   ],
   "source": [
    "print('Confusion Matrix for SVC')\n",
    "plot_confusion_matrix(conf_mat=cm5,show_absolute=True,\n",
    "                                show_normed=True,\n",
    "                                colorbar=True,class_names=['FAKE','REAL'])"
   ]
  },
  {
   "cell_type": "code",
   "execution_count": 31,
   "id": "10b100af",
   "metadata": {},
   "outputs": [
    {
     "name": "stdout",
     "output_type": "stream",
     "text": [
      "Confusion Matrix for LogisticRegression\n"
     ]
    },
    {
     "data": {
      "text/plain": [
       "array([[596,  46],\n",
       "       [ 63, 562]], dtype=int64)"
      ]
     },
     "execution_count": 31,
     "metadata": {},
     "output_type": "execute_result"
    }
   ],
   "source": [
    "print('Confusion Matrix for LogisticRegression')\n",
    "cm6"
   ]
  },
  {
   "cell_type": "code",
   "execution_count": 32,
   "id": "b9f5faa0",
   "metadata": {},
   "outputs": [
    {
     "name": "stdout",
     "output_type": "stream",
     "text": [
      "Confusion Matrix for LogisticRegression\n"
     ]
    },
    {
     "data": {
      "text/plain": [
       "(<Figure size 432x288 with 2 Axes>,\n",
       " <AxesSubplot:xlabel='predicted label', ylabel='true label'>)"
      ]
     },
     "execution_count": 32,
     "metadata": {},
     "output_type": "execute_result"
    },
    {
     "data": {
      "image/png": "[encoded data removed]",
      "text/plain": [
       "<Figure size 432x288 with 2 Axes>"
      ]
     },
     "metadata": {
      "needs_background": "light"
     },
     "output_type": "display_data"
    }
   ],
   "source": [
    "print('Confusion Matrix for LogisticRegression')\n",
    "plot_confusion_matrix(conf_mat=cm6,show_absolute=True,\n",
    "                                show_normed=True,\n",
    "                                colorbar=True,class_names=['FAKE','REAL'])"
   ]
  }
 ],
 "metadata": {
  "kernelspec": {
   "display_name": "Python 3 (ipykernel)",
   "language": "python",
   "name": "python3"
  },
  "language_info": {
   "codemirror_mode": {
    "name": "ipython",
    "version": 3
   },
   "file_extension": ".py",
   "mimetype": "text/x-python",
   "name": "python",
   "nbconvert_exporter": "python",
   "pygments_lexer": "ipython3",
   "version": "3.9.7"
  }
 },
 "nbformat": 4,
 "nbformat_minor": 5
}
