{
 "cells": [
  {
   "cell_type": "code",
   "execution_count": 1,
   "id": "b8d0e7f8",
   "metadata": {},
   "outputs": [],
   "source": [
    "import pandas as pd\n",
    "import numpy as np"
   ]
  },
  {
   "cell_type": "code",
   "execution_count": 2,
   "id": "084861fb",
   "metadata": {},
   "outputs": [],
   "source": [
    "df = pd.read_csv(r\"C:\\Users\\subin\\Desktop\\datasets\\COVIDSenti-A.csv\")"
   ]
  },
  {
   "cell_type": "code",
   "execution_count": 3,
   "id": "89d278f4",
   "metadata": {
    "scrolled": true
   },
   "outputs": [
    {
     "data": {
      "text/html": [
       "<div>\n",
       "<style scoped>\n",
       "    .dataframe tbody tr th:only-of-type {\n",
       "        vertical-align: middle;\n",
       "    }\n",
       "\n",
       "    .dataframe tbody tr th {\n",
       "        vertical-align: top;\n",
       "    }\n",
       "\n",
       "    .dataframe thead th {\n",
       "        text-align: right;\n",
       "    }\n",
       "</style>\n",
       "<table border=\"1\" class=\"dataframe\">\n",
       "  <thead>\n",
       "    <tr style=\"text-align: right;\">\n",
       "      <th></th>\n",
       "      <th>tweet</th>\n",
       "      <th>label</th>\n",
       "    </tr>\n",
       "  </thead>\n",
       "  <tbody>\n",
       "    <tr>\n",
       "      <th>0</th>\n",
       "      <td>Coronavirus | Human Coronavirus Types | CDC ht...</td>\n",
       "      <td>neu</td>\n",
       "    </tr>\n",
       "    <tr>\n",
       "      <th>1</th>\n",
       "      <td>@shehryar_taseer That‚Äôs üíØ true , \\nCorona...</td>\n",
       "      <td>neu</td>\n",
       "    </tr>\n",
       "    <tr>\n",
       "      <th>2</th>\n",
       "      <td>TLDR: Not SARS, possibly new coronavirus. Diff...</td>\n",
       "      <td>neg</td>\n",
       "    </tr>\n",
       "    <tr>\n",
       "      <th>3</th>\n",
       "      <td>Disease outbreak news from the WHO: Middle Eas...</td>\n",
       "      <td>neu</td>\n",
       "    </tr>\n",
       "    <tr>\n",
       "      <th>4</th>\n",
       "      <td>China - Media: WSJ says sources tell them myst...</td>\n",
       "      <td>neu</td>\n",
       "    </tr>\n",
       "    <tr>\n",
       "      <th>...</th>\n",
       "      <td>...</td>\n",
       "      <td>...</td>\n",
       "    </tr>\n",
       "    <tr>\n",
       "      <th>29995</th>\n",
       "      <td>CDC: Re-test confirms Westerdam cruise ship pa...</td>\n",
       "      <td>neu</td>\n",
       "    </tr>\n",
       "    <tr>\n",
       "      <th>29996</th>\n",
       "      <td>Two doctors die of coronavirus within 24 hours...</td>\n",
       "      <td>neu</td>\n",
       "    </tr>\n",
       "    <tr>\n",
       "      <th>29997</th>\n",
       "      <td>BEIJING - The lockdown of Guo Jing's neighbour...</td>\n",
       "      <td>neu</td>\n",
       "    </tr>\n",
       "    <tr>\n",
       "      <th>29998</th>\n",
       "      <td>#CoronavirusOutbreak in #Balochistan !!\\n#CPEC...</td>\n",
       "      <td>neu</td>\n",
       "    </tr>\n",
       "    <tr>\n",
       "      <th>29999</th>\n",
       "      <td>The Australian dollar has hit a fresh decade l...</td>\n",
       "      <td>neu</td>\n",
       "    </tr>\n",
       "  </tbody>\n",
       "</table>\n",
       "<p>30000 rows × 2 columns</p>\n",
       "</div>"
      ],
      "text/plain": [
       "                                                   tweet label\n",
       "0      Coronavirus | Human Coronavirus Types | CDC ht...   neu\n",
       "1      @shehryar_taseer That‚Äôs üíØ true , \\nCorona...   neu\n",
       "2      TLDR: Not SARS, possibly new coronavirus. Diff...   neg\n",
       "3      Disease outbreak news from the WHO: Middle Eas...   neu\n",
       "4      China - Media: WSJ says sources tell them myst...   neu\n",
       "...                                                  ...   ...\n",
       "29995  CDC: Re-test confirms Westerdam cruise ship pa...   neu\n",
       "29996  Two doctors die of coronavirus within 24 hours...   neu\n",
       "29997  BEIJING - The lockdown of Guo Jing's neighbour...   neu\n",
       "29998  #CoronavirusOutbreak in #Balochistan !!\\n#CPEC...   neu\n",
       "29999  The Australian dollar has hit a fresh decade l...   neu\n",
       "\n",
       "[30000 rows x 2 columns]"
      ]
     },
     "execution_count": 3,
     "metadata": {},
     "output_type": "execute_result"
    }
   ],
   "source": [
    "df"
   ]
  },
  {
   "cell_type": "code",
   "execution_count": 4,
   "id": "18880f7c",
   "metadata": {},
   "outputs": [
    {
     "data": {
      "text/plain": [
       "<bound method NDFrame.describe of                                                    tweet label\n",
       "0      Coronavirus | Human Coronavirus Types | CDC ht...   neu\n",
       "1      @shehryar_taseer That‚Äôs üíØ true , \\nCorona...   neu\n",
       "2      TLDR: Not SARS, possibly new coronavirus. Diff...   neg\n",
       "3      Disease outbreak news from the WHO: Middle Eas...   neu\n",
       "4      China - Media: WSJ says sources tell them myst...   neu\n",
       "...                                                  ...   ...\n",
       "29995  CDC: Re-test confirms Westerdam cruise ship pa...   neu\n",
       "29996  Two doctors die of coronavirus within 24 hours...   neu\n",
       "29997  BEIJING - The lockdown of Guo Jing's neighbour...   neu\n",
       "29998  #CoronavirusOutbreak in #Balochistan !!\\n#CPEC...   neu\n",
       "29999  The Australian dollar has hit a fresh decade l...   neu\n",
       "\n",
       "[30000 rows x 2 columns]>"
      ]
     },
     "execution_count": 4,
     "metadata": {},
     "output_type": "execute_result"
    }
   ],
   "source": [
    "df.describe"
   ]
  },
  {
   "cell_type": "code",
   "execution_count": 5,
   "id": "0ba39041",
   "metadata": {},
   "outputs": [
    {
     "data": {
      "text/plain": [
       "<bound method DataFrame.info of                                                    tweet label\n",
       "0      Coronavirus | Human Coronavirus Types | CDC ht...   neu\n",
       "1      @shehryar_taseer That‚Äôs üíØ true , \\nCorona...   neu\n",
       "2      TLDR: Not SARS, possibly new coronavirus. Diff...   neg\n",
       "3      Disease outbreak news from the WHO: Middle Eas...   neu\n",
       "4      China - Media: WSJ says sources tell them myst...   neu\n",
       "...                                                  ...   ...\n",
       "29995  CDC: Re-test confirms Westerdam cruise ship pa...   neu\n",
       "29996  Two doctors die of coronavirus within 24 hours...   neu\n",
       "29997  BEIJING - The lockdown of Guo Jing's neighbour...   neu\n",
       "29998  #CoronavirusOutbreak in #Balochistan !!\\n#CPEC...   neu\n",
       "29999  The Australian dollar has hit a fresh decade l...   neu\n",
       "\n",
       "[30000 rows x 2 columns]>"
      ]
     },
     "execution_count": 5,
     "metadata": {},
     "output_type": "execute_result"
    }
   ],
   "source": [
    "df.info"
   ]
  },
  {
   "cell_type": "code",
   "execution_count": 6,
   "id": "d74df4e7",
   "metadata": {},
   "outputs": [
    {
     "data": {
      "text/plain": [
       "tweet    0\n",
       "label    0\n",
       "dtype: int64"
      ]
     },
     "execution_count": 6,
     "metadata": {},
     "output_type": "execute_result"
    }
   ],
   "source": [
    "df.isnull().sum()"
   ]
  },
  {
   "cell_type": "code",
   "execution_count": 7,
   "id": "ee40a7fb",
   "metadata": {},
   "outputs": [
    {
     "data": {
      "text/plain": [
       "(30000, 2)"
      ]
     },
     "execution_count": 7,
     "metadata": {},
     "output_type": "execute_result"
    }
   ],
   "source": [
    "df.shape"
   ]
  },
  {
   "cell_type": "code",
   "execution_count": 8,
   "id": "938a07b2",
   "metadata": {},
   "outputs": [
    {
     "name": "stderr",
     "output_type": "stream",
     "text": [
      "[nltk_data] Downloading package stopwords to\n",
      "[nltk_data]     C:\\Users\\subin\\AppData\\Roaming\\nltk_data...\n",
      "[nltk_data]   Package stopwords is already up-to-date!\n"
     ]
    }
   ],
   "source": [
    "import nltk\n",
    "nltk.download('stopwords')\n",
    "from nltk.corpus import stopwords\n",
    "\n",
    "stop_words = stopwords.words('english')\n",
    "df['tweet'] = df['tweet'].apply(lambda x: ' '.join([word for word in x.split() if word not in (stop_words)]))\n"
   ]
  },
  {
   "cell_type": "code",
   "execution_count": 9,
   "id": "4c6eab1b",
   "metadata": {},
   "outputs": [
    {
     "data": {
      "text/html": [
       "<div>\n",
       "<style scoped>\n",
       "    .dataframe tbody tr th:only-of-type {\n",
       "        vertical-align: middle;\n",
       "    }\n",
       "\n",
       "    .dataframe tbody tr th {\n",
       "        vertical-align: top;\n",
       "    }\n",
       "\n",
       "    .dataframe thead th {\n",
       "        text-align: right;\n",
       "    }\n",
       "</style>\n",
       "<table border=\"1\" class=\"dataframe\">\n",
       "  <thead>\n",
       "    <tr style=\"text-align: right;\">\n",
       "      <th></th>\n",
       "      <th>tweet</th>\n",
       "      <th>label</th>\n",
       "    </tr>\n",
       "  </thead>\n",
       "  <tbody>\n",
       "    <tr>\n",
       "      <th>0</th>\n",
       "      <td>Coronavirus | Human Coronavirus Types | CDC ht...</td>\n",
       "      <td>neu</td>\n",
       "    </tr>\n",
       "    <tr>\n",
       "      <th>1</th>\n",
       "      <td>@shehryar_taseer That‚Äôs üíØ true , Corona v...</td>\n",
       "      <td>neu</td>\n",
       "    </tr>\n",
       "    <tr>\n",
       "      <th>2</th>\n",
       "      <td>TLDR: Not SARS, possibly new coronavirus. Diff...</td>\n",
       "      <td>neg</td>\n",
       "    </tr>\n",
       "    <tr>\n",
       "      <th>3</th>\n",
       "      <td>Disease outbreak news WHO: Middle East respira...</td>\n",
       "      <td>neu</td>\n",
       "    </tr>\n",
       "    <tr>\n",
       "      <th>4</th>\n",
       "      <td>China - Media: WSJ says sources tell mystery p...</td>\n",
       "      <td>neu</td>\n",
       "    </tr>\n",
       "  </tbody>\n",
       "</table>\n",
       "</div>"
      ],
      "text/plain": [
       "                                               tweet label\n",
       "0  Coronavirus | Human Coronavirus Types | CDC ht...   neu\n",
       "1  @shehryar_taseer That‚Äôs üíØ true , Corona v...   neu\n",
       "2  TLDR: Not SARS, possibly new coronavirus. Diff...   neg\n",
       "3  Disease outbreak news WHO: Middle East respira...   neu\n",
       "4  China - Media: WSJ says sources tell mystery p...   neu"
      ]
     },
     "execution_count": 9,
     "metadata": {},
     "output_type": "execute_result"
    }
   ],
   "source": [
    "df.head()"
   ]
  },
  {
   "cell_type": "code",
   "execution_count": 10,
   "id": "a5eb02a1",
   "metadata": {},
   "outputs": [],
   "source": [
    "from sklearn import preprocessing   \n",
    "label = preprocessing.LabelEncoder()\n",
    "df[ 'label' ]= label.fit_transform(df[ 'label' ]) "
   ]
  },
  {
   "cell_type": "code",
   "execution_count": 11,
   "id": "c0c35996",
   "metadata": {},
   "outputs": [
    {
     "data": {
      "text/html": [
       "<div>\n",
       "<style scoped>\n",
       "    .dataframe tbody tr th:only-of-type {\n",
       "        vertical-align: middle;\n",
       "    }\n",
       "\n",
       "    .dataframe tbody tr th {\n",
       "        vertical-align: top;\n",
       "    }\n",
       "\n",
       "    .dataframe thead th {\n",
       "        text-align: right;\n",
       "    }\n",
       "</style>\n",
       "<table border=\"1\" class=\"dataframe\">\n",
       "  <thead>\n",
       "    <tr style=\"text-align: right;\">\n",
       "      <th></th>\n",
       "      <th>tweet</th>\n",
       "      <th>label</th>\n",
       "    </tr>\n",
       "  </thead>\n",
       "  <tbody>\n",
       "    <tr>\n",
       "      <th>0</th>\n",
       "      <td>Coronavirus | Human Coronavirus Types | CDC ht...</td>\n",
       "      <td>1</td>\n",
       "    </tr>\n",
       "    <tr>\n",
       "      <th>1</th>\n",
       "      <td>@shehryar_taseer That‚Äôs üíØ true , Corona v...</td>\n",
       "      <td>1</td>\n",
       "    </tr>\n",
       "    <tr>\n",
       "      <th>2</th>\n",
       "      <td>TLDR: Not SARS, possibly new coronavirus. Diff...</td>\n",
       "      <td>0</td>\n",
       "    </tr>\n",
       "    <tr>\n",
       "      <th>3</th>\n",
       "      <td>Disease outbreak news WHO: Middle East respira...</td>\n",
       "      <td>1</td>\n",
       "    </tr>\n",
       "    <tr>\n",
       "      <th>4</th>\n",
       "      <td>China - Media: WSJ says sources tell mystery p...</td>\n",
       "      <td>1</td>\n",
       "    </tr>\n",
       "  </tbody>\n",
       "</table>\n",
       "</div>"
      ],
      "text/plain": [
       "                                               tweet  label\n",
       "0  Coronavirus | Human Coronavirus Types | CDC ht...      1\n",
       "1  @shehryar_taseer That‚Äôs üíØ true , Corona v...      1\n",
       "2  TLDR: Not SARS, possibly new coronavirus. Diff...      0\n",
       "3  Disease outbreak news WHO: Middle East respira...      1\n",
       "4  China - Media: WSJ says sources tell mystery p...      1"
      ]
     },
     "execution_count": 11,
     "metadata": {},
     "output_type": "execute_result"
    }
   ],
   "source": [
    "df.head()"
   ]
  },
  {
   "cell_type": "code",
   "execution_count": 12,
   "id": "632f724b",
   "metadata": {},
   "outputs": [],
   "source": [
    "import re\n",
    "r = re.compile(r'[^\\w\\s]+')\n",
    "df['tweet'] = [r.sub('', s) for s in df['tweet'].tolist()]"
   ]
  },
  {
   "cell_type": "code",
   "execution_count": 13,
   "id": "6e864bea",
   "metadata": {},
   "outputs": [
    {
     "name": "stderr",
     "output_type": "stream",
     "text": [
      "[nltk_data] Downloading package punkt to\n",
      "[nltk_data]     C:\\Users\\subin\\AppData\\Roaming\\nltk_data...\n",
      "[nltk_data]   Package punkt is already up-to-date!\n"
     ]
    },
    {
     "data": {
      "text/plain": [
       "True"
      ]
     },
     "execution_count": 13,
     "metadata": {},
     "output_type": "execute_result"
    }
   ],
   "source": [
    "import nltk\n",
    "nltk.download('punkt')"
   ]
  },
  {
   "cell_type": "code",
   "execution_count": 18,
   "id": "4baf693f",
   "metadata": {},
   "outputs": [],
   "source": [
    "x=df[\"tweet\"]\n",
    "y=df[\"label\"]"
   ]
  },
  {
   "cell_type": "code",
   "execution_count": 19,
   "id": "fbfb3954",
   "metadata": {},
   "outputs": [],
   "source": [
    "from sklearn.model_selection import train_test_split"
   ]
  },
  {
   "cell_type": "code",
   "execution_count": 20,
   "id": "9abdc6ff",
   "metadata": {},
   "outputs": [],
   "source": [
    "from  sklearn.model_selection import train_test_split\n",
    "x_train, x_test, y_train, y_test= train_test_split(x,y,test_size=0.3, random_state = 63)\n",
    "\n"
   ]
  },
  {
   "cell_type": "code",
   "execution_count": 21,
   "id": "6e7d3b58",
   "metadata": {},
   "outputs": [
    {
     "data": {
      "text/plain": [
       "15699    SpeakerPelosi Why government importing Coronav...\n",
       "442      Coronavirus cure Can treat coronavirus How dan...\n",
       "4464     Did China Steal Coronavirus From Canada And We...\n",
       "19646    Wuhan Coronavirus  What Are Its KeySymptoms ht...\n",
       "27417    Coronavirus South Korean PM vows swift action ...\n",
       "                               ...                        \n",
       "26580    CCX strong 1H result decent outlook cut div to...\n",
       "14348    Coronavirus updates The latest news outbreak g...\n",
       "5159                 indeed coronavirus httpstcoYswqKW13BS\n",
       "2049                   Whats deal coronavirus How I get it\n",
       "13084    Chinese markets plummet CoronavirusOutbreak Co...\n",
       "Name: tweet, Length: 9000, dtype: object"
      ]
     },
     "execution_count": 21,
     "metadata": {},
     "output_type": "execute_result"
    }
   ],
   "source": [
    "x_test"
   ]
  },
  {
   "cell_type": "code",
   "execution_count": 22,
   "id": "b617af22",
   "metadata": {
    "scrolled": true
   },
   "outputs": [
    {
     "data": {
      "text/plain": [
       "25114    Dear gullible asian parents Facebook stop read...\n",
       "10541    WHO declares Coronavirus global health emergen...\n",
       "3478     All Coronavirus stuff inner hypochondriac goin...\n",
       "28320    Letters  Keep cool coronavirus epidemic callig...\n",
       "5491     Fifth US case coronavirus confirmed a httpstco...\n",
       "                               ...                        \n",
       "2386     A Man Diagnosed With Wuhan Coronavirus Near Se...\n",
       "25815    Countries confirmed cases coronavirus httpstco...\n",
       "139      Corona Virus  Won Ton Soup banned US  üòú http...\n",
       "11380    U keep spreading nasty shits Para kang corona ...\n",
       "5164     DOHgov We need discuss avoid infection disease...\n",
       "Name: tweet, Length: 21000, dtype: object"
      ]
     },
     "execution_count": 22,
     "metadata": {},
     "output_type": "execute_result"
    }
   ],
   "source": [
    "x_train"
   ]
  },
  {
   "cell_type": "code",
   "execution_count": 23,
   "id": "decd6abf",
   "metadata": {},
   "outputs": [],
   "source": [
    "from sklearn.feature_extraction.text import TfidfVectorizer\n",
    "vectorizer=TfidfVectorizer()\n",
    "train_vectors = vectorizer.fit_transform(x_train)\n",
    "test_vectors = vectorizer.transform(x_test)"
   ]
  },
  {
   "cell_type": "code",
   "execution_count": 24,
   "id": "31b0191c",
   "metadata": {},
   "outputs": [
    {
     "data": {
      "text/plain": [
       "SVC(kernel='linear')"
      ]
     },
     "execution_count": 24,
     "metadata": {},
     "output_type": "execute_result"
    }
   ],
   "source": [
    "#linear kernel\n",
    "from sklearn import svm\n",
    "clf=svm.SVC(kernel='linear')\n",
    "clf.fit(train_vectors,y_train)"
   ]
  },
  {
   "cell_type": "code",
   "execution_count": 25,
   "id": "d22b010f",
   "metadata": {},
   "outputs": [
    {
     "data": {
      "text/plain": [
       "0.889"
      ]
     },
     "execution_count": 25,
     "metadata": {},
     "output_type": "execute_result"
    }
   ],
   "source": [
    "pred_linear=clf.predict(test_vectors)\n",
    "from sklearn import metrics\n",
    "metrics.accuracy_score(y_test,pred_linear)"
   ]
  },
  {
   "cell_type": "code",
   "execution_count": 26,
   "id": "b6251eee",
   "metadata": {},
   "outputs": [
    {
     "name": "stdout",
     "output_type": "stream",
     "text": [
      "              precision    recall  f1-score   support\n",
      "\n",
      "           0       0.88      0.71      0.78      1586\n",
      "           1       0.89      0.97      0.93      6820\n",
      "           2       0.81      0.47      0.59       594\n",
      "\n",
      "    accuracy                           0.89      9000\n",
      "   macro avg       0.86      0.71      0.77      9000\n",
      "weighted avg       0.89      0.89      0.88      9000\n",
      "\n"
     ]
    }
   ],
   "source": [
    "from sklearn.metrics import classification_report\n",
    "print(classification_report(y_test, pred_linear))"
   ]
  },
  {
   "cell_type": "code",
   "execution_count": null,
   "id": "f4f8eef9",
   "metadata": {},
   "outputs": [],
   "source": []
  }
 ],
 "metadata": {
  "kernelspec": {
   "display_name": "Python 3 (ipykernel)",
   "language": "python",
   "name": "python3"
  },
  "language_info": {
   "codemirror_mode": {
    "name": "ipython",
    "version": 3
   },
   "file_extension": ".py",
   "mimetype": "text/x-python",
   "name": "python",
   "nbconvert_exporter": "python",
   "pygments_lexer": "ipython3",
   "version": "3.9.13"
  }
 },
 "nbformat": 4,
 "nbformat_minor": 5
}
